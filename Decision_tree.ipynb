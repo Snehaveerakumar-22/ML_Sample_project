{
  "nbformat": 4,
  "nbformat_minor": 0,
  "metadata": {
    "colab": {
      "provenance": [],
      "authorship_tag": "ABX9TyNZo41+oEaCeM2oIhQEE6GQ",
      "include_colab_link": true
    },
    "kernelspec": {
      "name": "python3",
      "display_name": "Python 3"
    },
    "language_info": {
      "name": "python"
    }
  },
  "cells": [
    {
      "cell_type": "markdown",
      "metadata": {
        "id": "view-in-github",
        "colab_type": "text"
      },
      "source": [
        "<a href=\"https://colab.research.google.com/github/Snehaveerakumar-22/ML_Sample_project/blob/main/Decision_tree.ipynb\" target=\"_parent\"><img src=\"https://colab.research.google.com/assets/colab-badge.svg\" alt=\"Open In Colab\"/></a>"
      ]
    },
    {
      "cell_type": "code",
      "execution_count": 1,
      "metadata": {
        "colab": {
          "base_uri": "https://localhost:8080/"
        },
        "id": "RGTyNTw4KoEr",
        "outputId": "c876380d-0d18-4bda-bdb9-0964a67d008e"
      },
      "outputs": [
        {
          "output_type": "stream",
          "name": "stdout",
          "text": [
            "Total Entrophy for Length 0.4\n",
            "Total Entrophy for Gills 0.39001345298901247\n",
            "Total Entrophy for Beak 0.0\n",
            "Total Entrophy for Teeth 0.27548875021634683\n",
            "0.0\n",
            "The feature to put at the top is  beak\n"
          ]
        }
      ],
      "source": [
        "import math\n",
        "length={3:[2,0],4:[1,3],5:[2,2]}\n",
        "gills={'yes':[0,4],'no':[5,1]}\n",
        "beak={'yes':[5,3],'no':[0,2]}\n",
        "teeth={'many':[3,4],'few':[2,1]}\n",
        "features=[\"length\",\"gills\",\"beak\",\"teeth\"]\n",
        "entrophy=[]\n",
        "te=[]\n",
        "n=10;\n",
        "val=0\n",
        "for i in length.keys():\n",
        "    p=length[i][0]/(length[i][0]+length[i][1])\n",
        "if(p== 0 or (1-p)== 0):\n",
        "        e=0;\n",
        "else:\n",
        "        e = -p*math.log(p,2)-((1-p)* math.log((1-p),2))\n",
        "entrophy=entrophy+[e]\n",
        "j=0\n",
        "for i in length.keys():\n",
        "    t=length[i][0]+length[i][1]\n",
        "val+=(t/n)*entrophy[j]\n",
        "j=j+1\n",
        "print(\"Total Entrophy for Length\",val)\n",
        "te=te+[val]\n",
        "val=0\n",
        "entrophy=[]\n",
        "for i in gills.keys():\n",
        "    p=gills[i][0]/(gills[i][0]+gills[i][1])\n",
        "if(p== 0 or (1-p)== 0):\n",
        "        e=0;\n",
        "else:\n",
        "        e = -p*math.log(p,2)-((1-p)* math.log((1-p),2))\n",
        "entrophy=entrophy+[e]\n",
        "j=0\n",
        "for i in gills.keys():\n",
        "    t=gills[i][0]+gills[i][1]\n",
        "val+=(t/n)*entrophy[j]\n",
        "j=j+1\n",
        "print(\"Total Entrophy for Gills\",val)\n",
        "te=te+[val]\n",
        "val=0\n",
        "entrophy=[]\n",
        "for i in beak.keys():\n",
        "    p=beak[i][0]/(beak[i][0]+beak[i][1])\n",
        "if(p== 0 or (1-p)== 0):\n",
        "        e=0;\n",
        "else:\n",
        "        e = -p*math.log(p,2)-((1-p)* math.log((1-p),2))\n",
        "entrophy=entrophy+[e]\n",
        "j=0\n",
        "for i in beak.keys():\n",
        "    t=beak[i][0]+beak[i][1]\n",
        "val+=(t/n)*entrophy[j]\n",
        "j=j+1\n",
        "print(\"Total Entrophy for Beak\",val)\n",
        "te=te+[val]\n",
        "val=0\n",
        "entrophy=[]\n",
        "for i in teeth.keys():\n",
        "    p=teeth[i][0]/(teeth[i][0]+teeth[i][1])\n",
        "if(p== 0 or (1-p)== 0):\n",
        "        e=0;\n",
        "else:\n",
        "        e = -p*math.log(p,2)-((1-p)* math.log((1-p),2))\n",
        "entrophy=entrophy+[e]\n",
        "j=0\n",
        "for i in teeth.keys():\n",
        "    t=teeth[i][0]+teeth[i][1]\n",
        "val+=(t/n)*entrophy[j]\n",
        "j=j+1\n",
        "print(\"Total Entrophy for Teeth\",val)\n",
        "te=te+[val]\n",
        "j=0;\n",
        "minval=te[0];\n",
        "for i in range(1,4):\n",
        " if(te[i]<minval):\n",
        "   minval=te[i]\n",
        "print(minval)\n",
        "for i in range(4):\n",
        " if(minval==te[i]):\n",
        "  break\n",
        "print(\"The feature to put at the top is \",features[i])\n"
      ]
    }
  ]
}