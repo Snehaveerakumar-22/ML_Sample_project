{
  "nbformat": 4,
  "nbformat_minor": 0,
  "metadata": {
    "colab": {
      "provenance": [],
      "authorship_tag": "ABX9TyM52Zq+SnBWRvWFnusGiq7Q",
      "include_colab_link": true
    },
    "kernelspec": {
      "name": "python3",
      "display_name": "Python 3"
    },
    "language_info": {
      "name": "python"
    }
  },
  "cells": [
    {
      "cell_type": "markdown",
      "metadata": {
        "id": "view-in-github",
        "colab_type": "text"
      },
      "source": [
        "<a href=\"https://colab.research.google.com/github/Snehaveerakumar-22/ML_Sample_project/blob/main/Bagging.ipynb\" target=\"_parent\"><img src=\"https://colab.research.google.com/assets/colab-badge.svg\" alt=\"Open In Colab\"/></a>"
      ]
    },
    {
      "cell_type": "code",
      "execution_count": 1,
      "metadata": {
        "colab": {
          "base_uri": "https://localhost:8080/"
        },
        "id": "jWaKZd-WlMef",
        "outputId": "7a76bd6d-216b-45f4-a507-e8fb3e4f4c30"
      },
      "outputs": [
        {
          "output_type": "stream",
          "name": "stdout",
          "text": [
            "Train data accuracy: 1.0\n",
            "Test data accuracy: 0.8222222222222222\n"
          ]
        }
      ],
      "source": [
        "from sklearn import datasets\n",
        "from sklearn.model_selection import train_test_split\n",
        "from sklearn.metrics import accuracy_score\n",
        "from sklearn.tree import DecisionTreeClassifier\n",
        "\n",
        "\n",
        "data = datasets.load_wine(as_frame = True)\n",
        "\n",
        "\n",
        "X = data.data\n",
        "y = data.target\n",
        "\n",
        "\n",
        "X_train, X_test, y_train, y_test = train_test_split(X, y, test_size = 0.25, random_state = 22)\n",
        "\n",
        "\n",
        "dtree = DecisionTreeClassifier(random_state = 22)\n",
        "dtree.fit(X_train,y_train)\n",
        "\n",
        "\n",
        "y_pred = dtree.predict(X_test)\n",
        "\n",
        "\n",
        "print(\"Train data accuracy:\",accuracy_score(y_true = y_train, y_pred = dtree.predict(X_train)))\n",
        "print(\"Test data accuracy:\",accuracy_score(y_true = y_test, y_pred = y_pred))\n"
      ]
    }
  ]
}