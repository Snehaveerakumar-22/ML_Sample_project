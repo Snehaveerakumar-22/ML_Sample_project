{
  "nbformat": 4,
  "nbformat_minor": 0,
  "metadata": {
    "colab": {
      "provenance": [],
      "authorship_tag": "ABX9TyOyP85JH5wbtA+HWXF1+LRP",
      "include_colab_link": true
    },
    "kernelspec": {
      "name": "python3",
      "display_name": "Python 3"
    },
    "language_info": {
      "name": "python"
    }
  },
  "cells": [
    {
      "cell_type": "markdown",
      "metadata": {
        "id": "view-in-github",
        "colab_type": "text"
      },
      "source": [
        "<a href=\"https://colab.research.google.com/github/Snehaveerakumar-22/ML_Sample_project/blob/main/K_Means.ipynb\" target=\"_parent\"><img src=\"https://colab.research.google.com/assets/colab-badge.svg\" alt=\"Open In Colab\"/></a>"
      ]
    },
    {
      "cell_type": "code",
      "execution_count": 1,
      "metadata": {
        "colab": {
          "base_uri": "https://localhost:8080/"
        },
        "id": "AIs8Oq4dnakc",
        "outputId": "81f59eb4-8f7e-4cbc-f362-1c70c41af3b4"
      },
      "outputs": [
        {
          "output_type": "stream",
          "name": "stdout",
          "text": [
            " Cluster_1: 01\n",
            " Cluster_2: 2345\n",
            "Centroid C1= ( 0.5 ,  2.25 )\n",
            "Centroid C2= ( 3.0 ,  3.375 )\n",
            " Cluster_1: 02\n",
            " Cluster_2: 1345\n",
            "Centroid C1= ( 1.0 ,  0.75 )\n",
            "Centroid C2= ( 2.75 ,  4.125 )\n"
          ]
        }
      ],
      "source": [
        "import math\n",
        "x = [1, 1, 2, 2, 3, 5]\n",
        "y = [1.5, 4.5, 1.5, 3.5, 2.5, 6]\n",
        "c1 = [1, 1.5]\n",
        "c2 = [2, 1.5]\n",
        "dist_c1 = []\n",
        "dist_c2 = []\n",
        "clust_1 = []\n",
        "clust_2 = []\n",
        "k=0\n",
        "while k<2:\n",
        "    clust_1 = clust_2 = []\n",
        "    dist_c1 = dist_c2 = []\n",
        "    cx = cy = 0\n",
        "    for i in range(6):\n",
        "        dist_c1 = dist_c1 + [math.sqrt(((x[i] - c1[0])**2)+((y[i] - c1[1])**2))]\n",
        "        dist_c2 = dist_c2 + [math.sqrt(((x[i] - c2[0])**2)+((y[i] - c2[1])**2))]\n",
        "        if(dist_c1[i] < dist_c2[i]):\n",
        "            clust_1 = clust_1 + [i]\n",
        "        else:\n",
        "            clust_2 = clust_2 + [i]\n",
        "    print(\" Cluster_1: \",end = \"\")\n",
        "    for i in range(len(clust_1)):\n",
        "        print(clust_1[i],end=\"\")\n",
        "    cx = cx + x[clust_1[i]]\n",
        "    cy = cy + y[clust_1[i]]\n",
        "    c1 = [cx/len(clust_1), cy/len(clust_1)]\n",
        "    print()\n",
        "    cx = cy = 0\n",
        "    print(\" Cluster_2: \",end=\"\")\n",
        "    for i in range(len(clust_2)):\n",
        "        print(clust_2[i],end=\"\")\n",
        "        cx = cx + x[clust_2[i]]\n",
        "        cy = cy + y[clust_2[i]]\n",
        "        c2 = [cx/len(clust_2), cy/len(clust_2)]\n",
        "    print()\n",
        "    print(\"Centroid C1= (\",round(c1[0],3),\", \",round(c1[1],3),\")\")\n",
        "    print(\"Centroid C2= (\",round(c2[0],3),\", \",round(c2[1],3),\")\")\n",
        "    k = k + 1\n"
      ]
    }
  ]
}